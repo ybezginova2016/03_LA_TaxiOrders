{
 "cells": [
  {
   "cell_type": "markdown",
   "id": "c3bb9040",
   "metadata": {},
   "source": [
    "# Number of Taxi Orders Prediction\n",
    "\n",
    "## Project Goal\n",
    "\n",
    "Machine learning model for forecasting the number of taxi orders in the next hour.\n",
    "\n",
    "## Project Description\n",
    "\n",
    "The client company ABC, providing tzxi driving services, wants to understand when (at what time during the day) the number of orders increases to be prepared and attract more taxi drivers for such 'hot' hours in oder to satisfy demand. Hence, the company ABC wants to receive a valid machine learning model for predicting demand for an upcoming hour.\n",
    "\n",
    "## Project Methodology\n",
    "\n",
    "1. Use archived data provided by the client.\n",
    "2. Resample the data by an hour.\n",
    "3. Split the data into ***train, valid and test (10%)*** samples.\n",
    "4. Train different ML models with different hyperparamters.\n",
    "5. Choosing the model ML model, making conclusions.\n",
    "\n",
    "### Quality Metric RMSE: Root Mean Square Error <= 40\n"
   ]
  },
  {
   "cell_type": "code",
   "execution_count": null,
   "id": "c18d8e98",
   "metadata": {},
   "outputs": [],
   "source": []
  },
  {
   "cell_type": "code",
   "execution_count": null,
   "id": "84f83ec8",
   "metadata": {},
   "outputs": [],
   "source": []
  },
  {
   "cell_type": "code",
   "execution_count": null,
   "id": "ecc385d0",
   "metadata": {},
   "outputs": [],
   "source": []
  },
  {
   "cell_type": "code",
   "execution_count": null,
   "id": "13348b76",
   "metadata": {},
   "outputs": [],
   "source": []
  },
  {
   "cell_type": "code",
   "execution_count": null,
   "id": "204a2f8e",
   "metadata": {},
   "outputs": [],
   "source": []
  }
 ],
 "metadata": {
  "kernelspec": {
   "display_name": "Python 3 (ipykernel)",
   "language": "python",
   "name": "python3"
  },
  "language_info": {
   "codemirror_mode": {
    "name": "ipython",
    "version": 3
   },
   "file_extension": ".py",
   "mimetype": "text/x-python",
   "name": "python",
   "nbconvert_exporter": "python",
   "pygments_lexer": "ipython3",
   "version": "3.9.7"
  }
 },
 "nbformat": 4,
 "nbformat_minor": 5
}
