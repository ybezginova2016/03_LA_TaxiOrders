{
 "cells": [
  {
   "cell_type": "markdown",
   "id": "664b07f5",
   "metadata": {},
   "source": [
    "# 03 - ***Time Series*** - Number of Taxi Orders Prediction\n",
    "\n",
    "## Project Goal\n",
    "\n",
    "Machine learning model for forecasting the number of taxi orders in the next hour.\n",
    "\n",
    "## Project Description\n",
    "\n",
    "The client company ABC, providing tzxi driving services, wants to understand when (at what time during the day) the number of orders increases to be prepared and attract more taxi drivers for such 'hot' hours in oder to satisfy demand. Hence, the company ABC wants to receive a valid machine learning model for predicting demand for an upcoming hour.\n",
    "\n",
    "## Project Methodology\n",
    "\n",
    "1. Use archived data provided by the client.\n",
    "2. Resample the data by an hour.\n",
    "3. Split the data into ***train, valid and test (10%)*** samples.\n",
    "4. Train different ML models with different hyperparamters.\n",
    "5. Choosing the model ML model, making conclusions.\n",
    "\n",
    "#### Quality Metric RMSE: Root Mean Square Error <= 40\n"
   ]
  },
  {
   "cell_type": "markdown",
   "id": "1f913a47",
   "metadata": {},
   "source": [
    "[Zen Python](https://pythonchik.ru/osnovy/dzen-python-pep20)"
   ]
  },
  {
   "cell_type": "code",
   "execution_count": 1,
   "id": "1a587207",
   "metadata": {},
   "outputs": [],
   "source": [
    "import pandas as pd\n",
    "import numpy as np\n",
    "from sklearn.model_selection import train_test_split\n",
    "from sklearn.model_selection import GridSearchCV\n",
    "\n",
    "import pandas as pd\n",
    "from sklearn.model_selection import train_test_split\n",
    "from sklearn.pipeline import make_pipeline\n",
    "from sklearn.preprocessing import OneHotEncoder\n",
    "\n",
    "from sklearn import tree, metrics, ensemble, neural_network, naive_bayes, neighbors\n",
    "\n",
    "# classificaton problems\n",
    "from sklearn.neural_network import MLPClassifier\n",
    "from sklearn.naive_bayes import GaussianNB\n",
    "from sklearn.neighbors import KNeighborsClassifier\n",
    "\n",
    "from sklearn import svm\n",
    "from sklearn.svm import SVC\n",
    "\n",
    "from sklearn.metrics import r2_score\n",
    "\n",
    "# regression problems\n",
    "from sklearn.linear_model import LinearRegression\n",
    "from sklearn.tree import DecisionTreeRegressor\n",
    "from sklearn.ensemble import RandomForestRegressor\n",
    "import lightgbm as ltb\n",
    "from lightgbm import LGBMRegressor\n",
    "from catboost import CatBoostRegressor, Pool\n",
    "from sklearn.dummy import DummyRegressor\n",
    "import lightgbm as ltb\n",
    "\n",
    "# quality metrics\n",
    "from sklearn.metrics import mean_squared_error\n",
    "from sklearn.metrics import mean_absolute_error\n",
    "\n",
    "import statsmodels.api as sm\n",
    "\n",
    "%matplotlib inline\n",
    "\n",
    "import matplotlib.pyplot as plt\n",
    "from lightgbm import plot_importance\n",
    "import seaborn as sb\n",
    "sb.set_style('whitegrid')\n",
    "\n",
    "from collections import Counter\n",
    "\n",
    "import warnings\n",
    "warnings.filterwarnings('ignore')\n",
    "warnings.simplefilter(\"ignore\", category=RuntimeWarning)\n",
    "pd.options.mode.chained_assignment = None "
   ]
  },
  {
   "cell_type": "code",
   "execution_count": null,
   "id": "b0b83e09",
   "metadata": {},
   "outputs": [],
   "source": []
  },
  {
   "cell_type": "code",
   "execution_count": null,
   "id": "f167f4c1",
   "metadata": {},
   "outputs": [],
   "source": []
  },
  {
   "cell_type": "code",
   "execution_count": null,
   "id": "4468f1c4",
   "metadata": {},
   "outputs": [],
   "source": []
  }
 ],
 "metadata": {
  "kernelspec": {
   "display_name": "Python 3 (ipykernel)",
   "language": "python",
   "name": "python3"
  },
  "language_info": {
   "codemirror_mode": {
    "name": "ipython",
    "version": 3
   },
   "file_extension": ".py",
   "mimetype": "text/x-python",
   "name": "python",
   "nbconvert_exporter": "python",
   "pygments_lexer": "ipython3",
   "version": "3.10.8"
  }
 },
 "nbformat": 4,
 "nbformat_minor": 5
}
